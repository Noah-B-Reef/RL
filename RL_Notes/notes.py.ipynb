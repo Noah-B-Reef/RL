{
 "cells": [
  {
   "metadata": {},
   "cell_type": "markdown",
   "source": [
    "# Reinforcement Learning Notes\n",
    "\n",
    "**Reinforcement Learning**: A machine learning paradigm whose task is to have an agent learn an optimal behavior by interacting with and observing an environment\n",
    "\n",
    "- At each time step $t$, our environment can be in state $s_t \\in \\mathcal{S}$ at which our agent can perform an action $a_t \\in \\mathcal{A}$ which will change $s_t \\to s_{t+1}$ and will return some reward $R_t$.\n",
    "- Formally the goal of the agent is to maximize the sum total of reward within some maximum number of time steps or *horizon*\n"
   ],
   "id": "45af13084c484d3f"
  },
  {
   "cell_type": "code",
   "execution_count": null,
   "id": "initial_id",
   "metadata": {
    "collapsed": true
   },
   "outputs": [],
   "source": ""
  }
 ],
 "metadata": {
  "kernelspec": {
   "display_name": "Python 3",
   "language": "python",
   "name": "python3"
  },
  "language_info": {
   "codemirror_mode": {
    "name": "ipython",
    "version": 2
   },
   "file_extension": ".py",
   "mimetype": "text/x-python",
   "name": "python",
   "nbconvert_exporter": "python",
   "pygments_lexer": "ipython2",
   "version": "2.7.6"
  }
 },
 "nbformat": 4,
 "nbformat_minor": 5
}
